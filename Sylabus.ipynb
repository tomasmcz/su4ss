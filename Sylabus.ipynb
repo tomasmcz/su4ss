{
 "cells": [
  {
   "cell_type": "markdown",
   "metadata": {},
   "source": [
    "# Sylabus\n",
    "\n",
    "---\n",
    "\n",
    "## První lekce\n",
    "\n",
    "### Úvod\n",
    "\n",
    "### KNN\n",
    "\n",
    "- doporučování\n",
    "\n",
    "---\n",
    "\n",
    "## Další lekce\n",
    "\n",
    "### Lineární regrese\n",
    "\n",
    "https://en.wikipedia.org/wiki/Anscombe's_quartet\n",
    "\n",
    "### K-means\n",
    "\n",
    "### Perceptron / Bayes\n",
    "\n",
    "### Rozhodovací stromy?\n",
    "\n",
    "### Další metody\n",
    "\n",
    "- neuronové sítě\n",
    "- SVM\n",
    "- zpětnovazevné učení\n",
    "- bayesovské metody"
   ]
  }
 ],
 "metadata": {
  "kernelspec": {
   "display_name": "Python 3",
   "language": "python",
   "name": "python3"
  },
  "language_info": {
   "codemirror_mode": {
    "name": "ipython",
    "version": 3
   },
   "file_extension": ".py",
   "mimetype": "text/x-python",
   "name": "python",
   "nbconvert_exporter": "python",
   "pygments_lexer": "ipython3",
   "version": "3.4.3"
  }
 },
 "nbformat": 4,
 "nbformat_minor": 0
}
