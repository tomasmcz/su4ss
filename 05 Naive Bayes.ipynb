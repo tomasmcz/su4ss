{
 "cells": [
  {
   "cell_type": "markdown",
   "metadata": {},
   "source": [
    "# Naivní Bayesův klasifikátor\n",
    "\n",
    "- základní varianta je pro kategoriální rysy\n",
    "- založen na Baysově větě a naivním předpokladu podmíněné nezávislosti rysů\n",
    "\n",
    "Bayesova věta:\n",
    "$$ \\mathsf P (A | B) = \\frac{\\mathsf P (A, B)}{\\mathsf P (B)} $$\n",
    "\n",
    "- zajímá nás pravděpodobnost, že instanci přiřadíme třídu $y$, je-li dán vektor rysů $\\mathbf x$, tedy $\\mathsf P(y|\\mathbf x)$"
   ]
  },
  {
   "cell_type": "markdown",
   "metadata": {},
   "source": [
    "## Klasifikace emailů\n",
    "\n",
    "*kategorie*: alt.atheism, comp.sys.mac.hardware, rec.motorcycles, sci.electronics, alk.politics.guns, comp.graphics, comp.windows.x, rec.sport.baseball, sci.med, talk.politics.mideast, comp.os.ms-windows.misc, misc.forsale,           rec.sport.hockey, sci.space, talk.politics.misccomp.sys.ibm.pc.hardware, rec.autos, sci.crypt,          soc.religion.christian, talk.religion.misc\n",
    "\n",
    "... 20 kategorií -- pravěpodobnost, že se trefíme náhodou je $\\frac{1}{20} = 5\\%$\n",
    "- dnešní state-of-the art výsledky okolo 90%, v roce 2003 pod 80%"
   ]
  },
  {
   "cell_type": "raw",
   "metadata": {},
   "source": [
    "Path: cantaloupe.srv.cs.cmu.edu!das-news.harvard.edu!ogicse!uwm.edu!msuinfo!netnews.upenn.edu!netnews.cc.lehigh.edu!ns1.cc.lehigh.edu!ry01\n",
    "From: ry01@ns1.cc.lehigh.edu (ROBERT YUNG)\n",
    "Newsgroups: comp.sys.ibm.pc.hardware\n",
    "Subject: How long do monitors last????\n",
    "Message-ID: <1993Apr5.200422.65952@ns1.cc.lehigh.edu>\n",
    "Date: 5 Apr 93 20:04:22 GMT\n",
    "Article-I.D.: ns1.1993Apr5.200422.65952\n",
    "Organization: Lehigh University\n",
    "Lines: 21\n",
    "\n",
    "Well, my 14inch VGA 1024x758-interlacing 2.5 year old no brand monitor just\n",
    "bit the bullet. I pressed the power switch and a few seconds later, the power\n",
    "light went out with a POP. Gawd, it's only been two and half years.\n",
    "\n",
    "How long would normal monitors last? I think the problem with my monitor is\n",
    "the power switch... but the image was getting pretty dim anyway (I needed to\n",
    "have my contrast all the way to the max...). And the screen did flicker from\n",
    "time to time. Is this normal (hehehe) or do I just have the worst of luck???\n",
    "\n",
    "Question: What do I do now???? Buy a new one? Get it fixed? Save up for a\n",
    "*really* good one and get by with a cheap EGA monitor for now? I rather save\n",
    "my money to upgrade my 386SX to 486-66 though...\n",
    "\n",
    "Thanks!\n",
    "-- "
   ]
  },
  {
   "cell_type": "markdown",
   "metadata": {},
   "source": [
    "- jako rysy použijeme příznaky výskytu 4000 nejčastějších slov (zbavených nevýznamových, tzv. stop-slov)\n",
    "- každý dokument je popsaný 4000 dimenzionálním binárním vektorem"
   ]
  },
  {
   "cell_type": "code",
   "execution_count": 1,
   "metadata": {
    "collapsed": false
   },
   "outputs": [],
   "source": [
    "%matplotlib inline\n",
    "import warnings\n",
    "warnings.filterwarnings('ignore')\n",
    "import numpy as np\n",
    "import matplotlib.pyplot as plt\n",
    "import joblib\n",
    "\n",
    "X_train, y_train, X_test, y_test = \\\n",
    "    joblib.load(\"data/newsgroup/newsgroup-bin.pickle\")"
   ]
  },
  {
   "cell_type": "code",
   "execution_count": 2,
   "metadata": {
    "collapsed": false
   },
   "outputs": [
    {
     "name": "stdout",
     "output_type": "stream",
     "text": [
      "training accuracy: 0.7714\n",
      "test accuracy:     0.7058234940964578\n"
     ]
    }
   ],
   "source": [
    "import sklearn.naive_bayes\n",
    "\n",
    "model = sklearn.naive_bayes.BernoulliNB()\n",
    "model.fit(X_train, y_train)\n",
    "\n",
    "train_acc = np.mean(model.predict(X_train) == y_train)\n",
    "test_acc = np.mean(model.predict(X_test) == y_test)\n",
    "\n",
    "print(\"training accuracy: {}\".format(train_acc))\n",
    "print(\"test accuracy:     {}\".format(test_acc))"
   ]
  },
  {
   "cell_type": "code",
   "execution_count": null,
   "metadata": {
    "collapsed": false
   },
   "outputs": [],
   "source": [
    "import gc\n",
    "\n",
    "accuracies = []\n",
    "for c in range(1000, 15000, 1000):\n",
    "    X_c = X_train[:c]\n",
    "    y_c = y_train[:c]\n",
    "    m = sklearn.naive_bayes.BernoulliNB().fit(X_c, y_c)\n",
    "    acc = np.mean(m.predict(X_test) == y_test)\n",
    "    print(acc)\n",
    "    accuracies.append(acc)\n",
    "    gc.collect()\n",
    "\n",
    "ax = plt.gca()\n",
    "ax.ticklabel_format(useOffset=False)\n",
    "plt.plot(accuracies)"
   ]
  },
  {
   "cell_type": "code",
   "execution_count": 15,
   "metadata": {
    "collapsed": false
   },
   "outputs": [
    {
     "data": {
      "text/plain": [
       "[<matplotlib.lines.Line2D at 0x7f747d9b4b38>]"
      ]
     },
     "execution_count": 15,
     "metadata": {},
     "output_type": "execute_result"
    },
    {
     "data": {
      "image/png": "[encoded data removed]",
      "text/plain": [
       "<matplotlib.figure.Figure at 0x7f747d766a90>"
      ]
     },
     "metadata": {},
     "output_type": "display_data"
    }
   ],
   "source": [
    "from nearpy import Engine\n",
    "from nearpy.hashes import RandomBinaryProjections\n",
    "from nearpy.distances import EuclideanDistance\n",
    "from nearpy.filters import NearestFilter\n",
    "\n",
    "def most_common(list):\n",
    "    count = {}\n",
    "    \n",
    "    dist = {}\n",
    "    for _, x, d in list:\n",
    "        if not x in count:\n",
    "            count[x] = 0\n",
    "            dist[x] = 0\n",
    "        count[x] += 1\n",
    "        dist[x] += d\n",
    "    if count:\n",
    "        #return max(count.keys(), key=lambda x: count[x])\n",
    "        return min(count.keys(), key=lambda x: dist[x] / count[x])\n",
    "    else:\n",
    "        return 'misc.forsale'\n",
    "\n",
    "max_neighbors = 100\n",
    "rbp = RandomBinaryProjections('rbp', 10)\n",
    "knn_model = Engine(X[0].shape[1], lshashes=[rbp], \n",
    "                   distance=EuclideanDistance(),\n",
    "                   vector_filters=[NearestFilter(max_neighbors)])\n",
    "for x, y in zip(X[:15000], y_train):\n",
    "    knn_model.store_vector(x.toarray().squeeze(), y)\n",
    "\n",
    "predictions = [[] for _ in range(max_neighbors)]\n",
    "for x in X[15000:]:\n",
    "    neighbors = knn_model.neighbours(x.toarray().squeeze())\n",
    "    for i in range(max_neighbors):\n",
    "        predictions[i].append(most_common(neighbors[:i+1]))\n",
    "\n",
    "accuracies = []\n",
    "for i, pred in enumerate(predictions):\n",
    "    accuracies.append(np.mean([p == y for p, y in zip(pred, y_test)]))\n",
    "\n",
    "ax = plt.gca()\n",
    "ax.ticklabel_format(useOffset=False)\n",
    "plt.plot(accuracies)"
   ]
  }
 ],
 "metadata": {
  "kernelspec": {
   "display_name": "Python 3",
   "language": "python",
   "name": "python3"
  },
  "language_info": {
   "codemirror_mode": {
    "name": "ipython",
    "version": 3
   },
   "file_extension": ".py",
   "mimetype": "text/x-python",
   "name": "python",
   "nbconvert_exporter": "python",
   "pygments_lexer": "ipython3",
   "version": "3.4.3"
  }
 },
 "nbformat": 4,
 "nbformat_minor": 0
}
