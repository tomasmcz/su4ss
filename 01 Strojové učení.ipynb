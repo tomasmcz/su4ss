{
 "cells": [
  {
   "cell_type": "markdown",
   "metadata": {},
   "source": [
    "# Strojové učení"
   ]
  },
  {
   "cell_type": "markdown",
   "metadata": {},
   "source": [
    "## Klasické úlohy\n",
    "\n",
    "- rozpoznávání ručně psaných číslic a jiná OCR\n",
    "- rozpoznávání řeči\n",
    "- doporučování filmů, výrobků, ...\n",
    "- strojový překlad\n",
    "- detekce a rozpoznávání obličejů\n",
    "- odhalování podvodů\n",
    "\n",
    "## Kaggle\n",
    "\n",
    "- https://www.kaggle.com/c/predict-west-nile-virus\n",
    "- https://www.kaggle.com/c/the-allen-ai-science-challenge\n",
    "- https://www.gequest.com/c/flight2-milestone\n",
    "- https://www.kaggle.com/c/noaa-right-whale-recognition\n",
    "- https://www.kaggle.com/c/rossmann-store-sales"
   ]
  }
 ],
 "metadata": {
  "kernelspec": {
   "display_name": "Python 3",
   "language": "python",
   "name": "python3"
  },
  "language_info": {
   "codemirror_mode": {
    "name": "ipython",
    "version": 3
   },
   "file_extension": ".py",
   "mimetype": "text/x-python",
   "name": "python",
   "nbconvert_exporter": "python",
   "pygments_lexer": "ipython3",
   "version": "3.4.3"
  }
 },
 "nbformat": 4,
 "nbformat_minor": 0
}
