{
 "cells": [
  {
   "cell_type": "markdown",
   "metadata": {},
   "source": [
    "# Sylabus\n",
    "\n",
    "http://github.com/tomasmcz/su4ss\n",
    "\n",
    "---\n",
    "\n",
    "## První lekce\n",
    "\n",
    "### Úvod\n",
    "\n",
    "### KNN\n",
    "\n",
    "### Lineární regrese\n",
    "\n",
    "---\n",
    "\n",
    "## Druhá lekce\n",
    "\n",
    "### K-means\n",
    "\n",
    "---\n",
    "\n",
    "## Třetí lekce\n",
    "\n",
    "### Naivní Bayesův algoritmus\n",
    "\n",
    "### Perceptron\n",
    "\n",
    "---\n",
    "\n",
    "## Čtvrtá lekce\n",
    "\n",
    "### Rozhodovací stromy\n",
    "\n",
    "### Deep learning\n",
    "\n",
    "---\n",
    "\n",
    "## Pátá lekce\n",
    "\n",
    "### Opakování\n",
    "\n",
    "### Shrnutí\n",
    "\n",
    "---\n",
    "\n",
    "## Další zdroje informací\n",
    "\n",
    "- https://www.coursera.org/learn/machine-learning\n",
    "- http://kaggle.com"
   ]
  }
 ],
 "metadata": {
  "kernelspec": {
   "display_name": "Python 3",
   "language": "python",
   "name": "python3"
  },
  "language_info": {
   "codemirror_mode": {
    "name": "ipython",
    "version": 3
   },
   "file_extension": ".py",
   "mimetype": "text/x-python",
   "name": "python",
   "nbconvert_exporter": "python",
   "pygments_lexer": "ipython3",
   "version": "3.4.3"
  }
 },
 "nbformat": 4,
 "nbformat_minor": 0
}
