{
 "cells": [
  {
   "cell_type": "markdown",
   "metadata": {},
   "source": [
    "# Sylabus\n",
    "\n",
    "http://github.com/tomasmcz/su4ss\n",
    "\n",
    "---\n",
    "\n",
    "## První lekce\n",
    "\n",
    "### Úvod\n",
    "\n",
    "### KNN\n",
    "\n",
    "### Lineární regrese\n",
    "\n",
    "---\n",
    "\n",
    "## Druhá lekce\n",
    "\n",
    "### K-means\n",
    "\n",
    "### Naivní Bayesův algoritmus\n",
    "\n",
    "---\n",
    "\n",
    "## Další lekce\n",
    "\n",
    "### Rozhodovací stromy\n",
    "\n",
    "### Perceptron\n",
    "\n",
    "### Další metody\n",
    "\n",
    "- neuronové sítě\n",
    "- SVM\n",
    "- zpětnovazevné učení\n",
    "- bayesovské metody\n",
    "\n",
    "---\n",
    "\n",
    "## Další možnosti\n",
    "\n",
    "- ještě víc metod\n",
    "- podrobnější výklad některé metody\n",
    "- reálný příklad od začátku do konce\n",
    "- povídání o neuronových sítích\n",
    "- povídání o strojovém překladu"
   ]
  }
 ],
 "metadata": {
  "kernelspec": {
   "display_name": "Python 3",
   "language": "python",
   "name": "python3"
  },
  "language_info": {
   "codemirror_mode": {
    "name": "ipython",
    "version": 3
   },
   "file_extension": ".py",
   "mimetype": "text/x-python",
   "name": "python",
   "nbconvert_exporter": "python",
   "pygments_lexer": "ipython3",
   "version": "3.4.3"
  }
 },
 "nbformat": 4,
 "nbformat_minor": 0
}
