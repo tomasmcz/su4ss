{
 "cells": [
  {
   "cell_type": "markdown",
   "metadata": {},
   "source": [
    "# Perceptron\n",
    "\n",
    "- neronová síť s jediným neuronem\n",
    "- klasifikuje váženým součtem rysů (váhá může být kladná i záporná)\n",
    "\n",
    "$$ f(x) = \\begin{cases}1 & \\text{pro }\\mathbf w \\cdot \\mathbf x + b > 0\\\\0 & \\text{jindy}\\end{cases} $$\n",
    "\n",
    "- učící algoritmus iteruje přes data, když by současné váhy vedly k chybě, provede update:\n",
    "\n",
    "$$ \\mathbf w_{t+1} := \\mathbf w_{t} + (\\hat y - y) \\mathbf x $$\n",
    "\n",
    "- učí se iterativně - je potřeba včas zastavit"
   ]
  },
  {
   "cell_type": "code",
   "execution_count": 2,
   "metadata": {
    "collapsed": false
   },
   "outputs": [],
   "source": [
    "%matplotlib inline\n",
    "import warnings\n",
    "warnings.filterwarnings('ignore')\n",
    "import numpy as np\n",
    "import matplotlib.pyplot as plt\n",
    "import joblib\n",
    "\n",
    "X_train, y_train, X_test, y_test = \\\n",
    "    joblib.load(\"data/newsgroup/newsgroup-bin.pickle\")"
   ]
  },
  {
   "cell_type": "code",
   "execution_count": 3,
   "metadata": {
    "collapsed": false
   },
   "outputs": [
    {
     "name": "stdout",
     "output_type": "stream",
     "text": [
      "training accuracy: 0.9654666666666667\n",
      "test accuracy:     0.7710626375825496\n"
     ]
    }
   ],
   "source": [
    "from sklearn.linear_model import Perceptron\n",
    "\n",
    "perceptron = Perceptron(n_iter=10).fit(X_train, y_train)\n",
    "\n",
    "train_acc = np.mean(perceptron.predict(X_train) == y_train)\n",
    "test_acc = np.mean(perceptron.predict(X_test) == y_test)\n",
    "\n",
    "print(\"training accuracy: {}\".format(train_acc))\n",
    "print(\"test accuracy:     {}\".format(test_acc))"
   ]
  },
  {
   "cell_type": "markdown",
   "metadata": {},
   "source": [
    "## Učící křivka\n",
    "\n",
    "- problém přeučení"
   ]
  },
  {
   "cell_type": "code",
   "execution_count": 4,
   "metadata": {
    "collapsed": false
   },
   "outputs": [
    {
     "data": {
      "text/plain": [
       "[<matplotlib.lines.Line2D at 0x7f1303213c18>]"
      ]
     },
     "execution_count": 4,
     "metadata": {},
     "output_type": "execute_result"
    },
    {
     "data": {
      "image/png": "[encoded data removed]",
      "text/plain": [
       "<matplotlib.figure.Figure at 0x7f130a6f9b00>"
      ]
     },
     "metadata": {},
     "output_type": "display_data"
    }
   ],
   "source": [
    "train_accuracies = []\n",
    "test_accuracies = []\n",
    "\n",
    "perceptron = Perceptron(n_iter=1, warm_start=True)\n",
    "for i in range(30):\n",
    "    perceptron.fit(X_train, y_train)\n",
    "    train_accuracies.append(np.mean(perceptron.predict(X_train) == y_train))\n",
    "    test_accuracies.append(np.mean(perceptron.predict(X_test) == y_test))\n",
    "    \n",
    "ax = plt.gca()\n",
    "ax.ticklabel_format(useOffset=False)\n",
    "plt.plot(train_accuracies)\n",
    "plt.plot(test_accuracies)"
   ]
  },
  {
   "cell_type": "markdown",
   "metadata": {},
   "source": [
    "## Porovnání s Naivním Bayesovským klasifikátorem"
   ]
  },
  {
   "cell_type": "code",
   "execution_count": 7,
   "metadata": {
    "collapsed": false
   },
   "outputs": [
    {
     "ename": "KeyboardInterrupt",
     "evalue": "",
     "output_type": "error",
     "traceback": [
      "\u001b[1;31m---------------------------------------------------------------------------\u001b[0m",
      "\u001b[1;31mKeyboardInterrupt\u001b[0m                         Traceback (most recent call last)",
      "\u001b[1;32m<ipython-input-7-25e64cb91b18>\u001b[0m in \u001b[0;36m<module>\u001b[1;34m()\u001b[0m\n\u001b[0;32m      5\u001b[0m \u001b[0mperceptron_accuracies\u001b[0m \u001b[1;33m=\u001b[0m \u001b[1;33m[\u001b[0m\u001b[1;33m]\u001b[0m\u001b[1;33m\u001b[0m\u001b[0m\n\u001b[0;32m      6\u001b[0m \u001b[1;32mfor\u001b[0m \u001b[0mc\u001b[0m \u001b[1;32min\u001b[0m \u001b[0mrange\u001b[0m\u001b[1;33m(\u001b[0m\u001b[1;36m500\u001b[0m\u001b[1;33m,\u001b[0m \u001b[1;36m6000\u001b[0m\u001b[1;33m,\u001b[0m \u001b[1;36m1000\u001b[0m\u001b[1;33m)\u001b[0m\u001b[1;33m:\u001b[0m\u001b[1;33m\u001b[0m\u001b[0m\n\u001b[1;32m----> 7\u001b[1;33m     \u001b[0mX_c\u001b[0m \u001b[1;33m=\u001b[0m \u001b[0mX_train\u001b[0m\u001b[1;33m[\u001b[0m\u001b[1;33m:\u001b[0m\u001b[0mc\u001b[0m\u001b[1;33m]\u001b[0m\u001b[1;33m\u001b[0m\u001b[0m\n\u001b[0m\u001b[0;32m      8\u001b[0m     \u001b[0my_c\u001b[0m \u001b[1;33m=\u001b[0m \u001b[0my_train\u001b[0m\u001b[1;33m[\u001b[0m\u001b[1;33m:\u001b[0m\u001b[0mc\u001b[0m\u001b[1;33m]\u001b[0m\u001b[1;33m\u001b[0m\u001b[0m\n\u001b[0;32m      9\u001b[0m     \u001b[0mbayes\u001b[0m \u001b[1;33m=\u001b[0m \u001b[0mBernoulliNB\u001b[0m\u001b[1;33m(\u001b[0m\u001b[1;33m)\u001b[0m\u001b[1;33m.\u001b[0m\u001b[0mfit\u001b[0m\u001b[1;33m(\u001b[0m\u001b[0mX_c\u001b[0m\u001b[1;33m,\u001b[0m \u001b[0my_c\u001b[0m\u001b[1;33m)\u001b[0m\u001b[1;33m\u001b[0m\u001b[0m\n",
      "\u001b[1;32m/usr/lib/python3/dist-packages/scipy/sparse/lil.py\u001b[0m in \u001b[0;36m__getitem__\u001b[1;34m(self, index)\u001b[0m\n\u001b[0;32m    243\u001b[0m         return self.__class__([[self._get1(iii, jjj) for iii, jjj in\n\u001b[0;32m    244\u001b[0m                                 zip(ii, jj)] for ii, jj in\n\u001b[1;32m--> 245\u001b[1;33m                                zip(i.tolist(), j.tolist())])\n\u001b[0m\u001b[0;32m    246\u001b[0m \u001b[1;33m\u001b[0m\u001b[0m\n\u001b[0;32m    247\u001b[0m     \u001b[1;32mdef\u001b[0m \u001b[0m_insertat2\u001b[0m\u001b[1;33m(\u001b[0m\u001b[0mself\u001b[0m\u001b[1;33m,\u001b[0m \u001b[0mrow\u001b[0m\u001b[1;33m,\u001b[0m \u001b[0mdata\u001b[0m\u001b[1;33m,\u001b[0m \u001b[0mj\u001b[0m\u001b[1;33m,\u001b[0m \u001b[0mx\u001b[0m\u001b[1;33m)\u001b[0m\u001b[1;33m:\u001b[0m\u001b[1;33m\u001b[0m\u001b[0m\n",
      "\u001b[1;31mKeyboardInterrupt\u001b[0m: "
     ]
    }
   ],
   "source": [
    "from sklearn.naive_bayes import BernoulliNB\n",
    "import gc\n",
    "\n",
    "bayes_accuracies = []\n",
    "perceptron_accuracies = []\n",
    "for c in range(500, 6000, 1000):\n",
    "    X_c = X_train[:c]\n",
    "    y_c = y_train[:c]\n",
    "    bayes = BernoulliNB().fit(X_c, y_c)\n",
    "    perceptron = Perceptron().fit(X_c, y_c)\n",
    "    bayes_accuracies.append(np.mean(bayes.predict(X_test) == y_test))\n",
    "    perceptron_accuracies.append(np.mean(perceptron.predict(X_test) == y_test))\n",
    "    gc.collect()\n",
    "\n",
    "ax = plt.gca()\n",
    "ax.ticklabel_format(useOffset=False)\n",
    "plt.plot(bayes_accuracies)  \n",
    "plt.plot(perceptron_accuracies)"
   ]
  },
  {
   "cell_type": "markdown",
   "metadata": {},
   "source": [
    "## Efekt počtu rysů na učení"
   ]
  },
  {
   "cell_type": "code",
   "execution_count": null,
   "metadata": {
    "collapsed": false
   },
   "outputs": [],
   "source": [
    "accuracies = []\n",
    "for i in range(100, 4000, 100):\n",
    "    X_t = X_train[:,:i]\n",
    "    perceptron = Perceptron(n_iter=30).fit(X_t, y_train)\n",
    "    accuracies.append(np.mean(perceptron.predict(X_test[:,:i]) == y_test))\n",
    "    gc.collect()\n",
    "    \n",
    "plt.plot(accuracies)"
   ]
  },
  {
   "cell_type": "markdown",
   "metadata": {},
   "source": [
    "##  Četnost místo binárních příznaků"
   ]
  },
  {
   "cell_type": "code",
   "execution_count": 32,
   "metadata": {
    "collapsed": false
   },
   "outputs": [
    {
     "name": "stdout",
     "output_type": "stream",
     "text": [
      "training accuracy: 0.9066666666666666\n",
      "test accuracy:     0.7154292575545327\n"
     ]
    }
   ],
   "source": [
    "X_train, y_train, X_test, y_test = \\\n",
    "    joblib.load(\"data/newsgroup/newsgroup.pickle\")\n",
    "    \n",
    "perceptron = Perceptron(n_iter=30).fit(X_train, y_train)\n",
    "\n",
    "train_acc = np.mean(perceptron.predict(X_train) == y_train)\n",
    "test_acc = np.mean(perceptron.predict(X_test) == y_test)\n",
    "\n",
    "print(\"training accuracy: {}\".format(train_acc))\n",
    "print(\"test accuracy:     {}\".format(test_acc))"
   ]
  }
 ],
 "metadata": {
  "kernelspec": {
   "display_name": "Python 3",
   "language": "python",
   "name": "python3"
  },
  "language_info": {
   "codemirror_mode": {
    "name": "ipython",
    "version": 3
   },
   "file_extension": ".py",
   "mimetype": "text/x-python",
   "name": "python",
   "nbconvert_exporter": "python",
   "pygments_lexer": "ipython3",
   "version": "3.4.3"
  }
 },
 "nbformat": 4,
 "nbformat_minor": 0
}
