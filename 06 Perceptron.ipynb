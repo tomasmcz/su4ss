{
 "cells": [
  {
   "cell_type": "markdown",
   "metadata": {},
   "source": [
    "# Perceptron\n",
    "\n",
    "- neuronová síť s jediným neuronem\n",
    "- klasifikuje váženým součtem rysů (váha může být kladná i záporná)\n",
    "\n",
    "$$ f(x) = \\begin{cases}1 & \\text{pro }\\mathbf w \\cdot \\mathbf x + b > 0\\\\0 & \\text{jindy}\\end{cases} $$\n",
    "\n",
    "- učící algoritmus iteruje přes data, když by současné váhy vedly k chybě, provede update:\n",
    "\n",
    "$$ \\mathbf w_{t+1} := \\mathbf w_{t} + (\\hat y - y) \\mathbf x $$\n",
    "\n",
    "- učí se iterativně - je potřeba včas zastavit"
   ]
  },
  {
   "cell_type": "code",
   "execution_count": 8,
   "metadata": {
    "collapsed": false
   },
   "outputs": [],
   "source": [
    "%matplotlib inline\n",
    "import warnings\n",
    "warnings.filterwarnings('ignore')\n",
    "import numpy as np\n",
    "import matplotlib.pyplot as plt\n",
    "import joblib\n",
    "\n",
    "X_train, y_train, X_test, y_test = \\\n",
    "    joblib.load(\"data/newsgroup/newsgroup-bin.pickle\")\n",
    "X_train = X_train.tocsr()"
   ]
  },
  {
   "cell_type": "code",
   "execution_count": 10,
   "metadata": {
    "collapsed": false,
    "scrolled": true
   },
   "outputs": [
    {
     "name": "stdout",
     "output_type": "stream",
     "text": [
      "training accuracy: 0.9714\n",
      "test accuracy:     0.8022813688212928\n"
     ]
    }
   ],
   "source": [
    "from sklearn.linear_model import Perceptron, SGDClassifier\n",
    "\n",
    "#perceptron = Perceptron(n_iter=10).fit(X_train, y_train)\n",
    "perceptron = SGDClassifier(loss='log', n_iter=150).fit(X_train, y_train)\n",
    "\n",
    "train_acc = np.mean(perceptron.predict(X_train) == y_train)\n",
    "test_acc = np.mean(perceptron.predict(X_test) == y_test)\n",
    "\n",
    "print(\"training accuracy: {}\".format(train_acc))\n",
    "print(\"test accuracy:     {}\".format(test_acc))"
   ]
  },
  {
   "cell_type": "markdown",
   "metadata": {},
   "source": [
    "## Učící křivka\n",
    "\n",
    "- problém přeučení"
   ]
  },
  {
   "cell_type": "code",
   "execution_count": 4,
   "metadata": {
    "collapsed": false
   },
   "outputs": [
    {
     "data": {
      "text/plain": [
       "[<matplotlib.lines.Line2D at 0x7f17faefcf60>]"
      ]
     },
     "execution_count": 4,
     "metadata": {},
     "output_type": "execute_result"
    },
    {
     "data": {
      "image/png": "[encoded data removed]",
      "text/plain": [
       "<matplotlib.figure.Figure at 0x7f17faefcd30>"
      ]
     },
     "metadata": {},
     "output_type": "display_data"
    }
   ],
   "source": [
    "train_accuracies = []\n",
    "test_accuracies = []\n",
    "\n",
    "perceptron = Perceptron(n_iter=1, warm_start=True)\n",
    "for i in range(50):\n",
    "    perceptron.fit(X_train, y_train)\n",
    "    train_accuracies.append(np.mean(perceptron.predict(X_train) == y_train))\n",
    "    test_accuracies.append(np.mean(perceptron.predict(X_test) == y_test))\n",
    "    \n",
    "ax = plt.gca()\n",
    "ax.ticklabel_format(useOffset=False)\n",
    "plt.plot(train_accuracies)\n",
    "plt.plot(test_accuracies)"
   ]
  },
  {
   "cell_type": "markdown",
   "metadata": {},
   "source": [
    "## Porovnání s Naivním Bayesovským klasifikátorem"
   ]
  },
  {
   "cell_type": "code",
   "execution_count": 6,
   "metadata": {
    "collapsed": false
   },
   "outputs": [
    {
     "data": {
      "text/plain": [
       "[<matplotlib.lines.Line2D at 0x7f17fad919b0>]"
      ]
     },
     "execution_count": 6,
     "metadata": {},
     "output_type": "execute_result"
    },
    {
     "data": {
      "image/png": "[encoded data removed]",
      "text/plain": [
       "<matplotlib.figure.Figure at 0x7f17fadd1ef0>"
      ]
     },
     "metadata": {},
     "output_type": "display_data"
    }
   ],
   "source": [
    "from sklearn.naive_bayes import BernoulliNB\n",
    "import gc\n",
    "\n",
    "bayes_accuracies = []\n",
    "perceptron_accuracies = []\n",
    "for c in range(500, 15000, 500):\n",
    "    X_c = X_train[:c]\n",
    "    y_c = y_train[:c]\n",
    "    bayes = BernoulliNB().fit(X_c, y_c)\n",
    "    perceptron = Perceptron(n_iter=10).fit(X_c, y_c)\n",
    "    bayes_accuracies.append(np.mean(bayes.predict(X_test) == y_test))\n",
    "    perceptron_accuracies.append(np.mean(perceptron.predict(X_test) == y_test))\n",
    "    gc.collect()\n",
    "\n",
    "ax = plt.gca()\n",
    "ax.ticklabel_format(useOffset=False)\n",
    "plt.plot(bayes_accuracies)  \n",
    "plt.plot(perceptron_accuracies)"
   ]
  },
  {
   "cell_type": "markdown",
   "metadata": {},
   "source": [
    "## Efekt počtu rysů na učení"
   ]
  },
  {
   "cell_type": "code",
   "execution_count": 13,
   "metadata": {
    "collapsed": false
   },
   "outputs": [
    {
     "name": "stdout",
     "output_type": "stream",
     "text": [
      "0.630578347008\n",
      "0.690614368621\n",
      "0.713628176906\n"
     ]
    }
   ],
   "source": [
    "import gc\n",
    "\n",
    "X_train_col = X_train.tocsc()\n",
    "X_test_col = X_test.tocsc()\n",
    "for i in range(1000, 4001, 1000):\n",
    "    X_t = X_train_col[:,:i]\n",
    "    perceptron = Perceptron(n_iter=10).fit(X_t, y_train)\n",
    "    acc = np.mean(perceptron.predict(X_test[:,:i]) == y_test)\n",
    "    print(\"{} words => {}\".format(i, acc))\n",
    "    gc.collect()"
   ]
  },
  {
   "cell_type": "markdown",
   "metadata": {},
   "source": [
    "##  Četnost místo binárních příznaků"
   ]
  },
  {
   "cell_type": "code",
   "execution_count": 11,
   "metadata": {
    "collapsed": false
   },
   "outputs": [
    {
     "name": "stdout",
     "output_type": "stream",
     "text": [
      "training accuracy: 0.8883333333333333\n",
      "test accuracy:     0.7336401841104663\n"
     ]
    }
   ],
   "source": [
    "import joblib\n",
    "import numpy as np\n",
    "\n",
    "X_train, y_train, X_test, y_test = \\\n",
    "    joblib.load(\"data/newsgroup/newsgroup.pickle\")\n",
    "    \n",
    "perceptron = Perceptron(n_iter=10).fit(X_train, y_train)\n",
    "\n",
    "train_acc = np.mean(perceptron.predict(X_train) == y_train)\n",
    "test_acc = np.mean(perceptron.predict(X_test) == y_test)\n",
    "\n",
    "print(\"training accuracy: {}\".format(train_acc))\n",
    "print(\"test accuracy:     {}\".format(test_acc))"
   ]
  }
 ],
 "metadata": {
  "kernelspec": {
   "display_name": "Python 3",
   "language": "python",
   "name": "python3"
  },
  "language_info": {
   "codemirror_mode": {
    "name": "ipython",
    "version": 3
   },
   "file_extension": ".py",
   "mimetype": "text/x-python",
   "name": "python",
   "nbconvert_exporter": "python",
   "pygments_lexer": "ipython3",
   "version": "3.4.3"
  }
 },
 "nbformat": 4,
 "nbformat_minor": 0
}
